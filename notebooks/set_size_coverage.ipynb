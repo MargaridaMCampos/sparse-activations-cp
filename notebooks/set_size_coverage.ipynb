{
 "cells": [
  {
   "cell_type": "code",
   "execution_count": 1,
   "metadata": {},
   "outputs": [
    {
     "name": "stderr",
     "output_type": "stream",
     "text": [
      "/Users/margaridacampos/.pyenv/versions/3.11.6/envs/entmaxcp/lib/python3.11/site-packages/tqdm/auto.py:21: TqdmWarning: IProgress not found. Please update jupyter and ipywidgets. See https://ipywidgets.readthedocs.io/en/stable/user_install.html\n",
      "  from .autonotebook import tqdm as notebook_tqdm\n"
     ]
    }
   ],
   "source": [
    "%load_ext autoreload\n",
    "%autoreload 2\n",
    "import numpy as np\n",
    "import pandas as pd\n",
    "from confpred.cp import run_cp\n",
    "import torch\n",
    "import seaborn as sns\n",
    "import matplotlib.pyplot as plt\n",
    "from sklearn.utils import shuffle\n",
    "import pickle"
   ]
  },
  {
   "cell_type": "code",
   "execution_count": 2,
   "metadata": {},
   "outputs": [],
   "source": [
    "dataset_list = ['CIFAR10','ImageNet','CIFAR100','NewsGroups']\n",
    "seed = '23'\n",
    "model_loss = 'softmax'\n",
    "alpha_list = np.round(np.linspace(0.01,0.1,10),4)\n",
    "score_list = ['limit','opt_entmax','RAPS','sparsemax','softmax','entmax']\n",
    "random_states = [1,12,123,1234,12345]\n",
    "all_res_class_df = pd.DataFrame()\n",
    "for alpha in alpha_list:\n",
    "    for random_state in random_states:\n",
    "        for dataset in dataset_list:\n",
    "            for score in score_list:\n",
    "                with open(f'../data/set_prediction/{dataset}_{score}_{seed}_{random_state}_alpha{alpha}_test_pred.pickle', 'rb') as handle:\n",
    "                    test_preds = pickle.load(handle)\n",
    "                path = f'../data/predictions/{dataset}_{seed}_test_true.pickle'\n",
    "                with open(path, 'rb') as f:\n",
    "                    test_true_enc_og = pickle.load(f)\n",
    "                \n",
    "                cal_size = np.ceil(test_true_enc_og.shape[0]*0.4).astype(int)\n",
    "                test_true_enc = shuffle(test_true_enc_og,random_state = random_state)\n",
    "                cal_true_enc = test_true_enc[0:cal_size]\n",
    "                test_true_enc = test_true_enc[cal_size:]\n",
    "\n",
    "\n",
    "                #test_match = test_pvalues>alpha\n",
    "                test_match = test_preds\n",
    "                set_size = test_match.sum(axis=1)\n",
    "                test_bool = test_match[test_true_enc.astype(bool)]\n",
    "\n",
    "                set_size_res = pd.DataFrame({'dataset':dataset,\n",
    "                            'score':score,\n",
    "                            'alpha':alpha,\n",
    "                            'random_state':random_state,\n",
    "                            'set_size':set_size,\n",
    "                            'match':test_bool})\n",
    "                all_res_class_df = pd.concat([all_res_class_df,set_size_res])"
   ]
  },
  {
   "cell_type": "code",
   "execution_count": 3,
   "metadata": {},
   "outputs": [],
   "source": [
    "summary_results = all_res_class_df.groupby(['dataset','score','alpha','random_state']).mean().reset_index()\n",
    "summary_results.rename(columns = {'match':'coverage','set_size':'avg_size'},inplace=True)\n",
    "summary_results['name'] = summary_results['score'].map({'RAPS':'RAPS',\n",
    "                                                        'sparsemax':'sparsemax',\n",
    "                                                        'opt_entmax':'opt-entmax',\n",
    "                                                        'softmax':'InvProb',      \n",
    "                                                        'limit':'log-margin',   \n",
    "                                                        'entmax':'1.5-entmax'\n",
    "                                                    },na_action=\"ignore\")"
   ]
  },
  {
   "cell_type": "code",
   "execution_count": 4,
   "metadata": {},
   "outputs": [],
   "source": [
    "all_res_class_df['size_bin'] = pd.cut(all_res_class_df['set_size'],bins = [0,1,3,6,10,np.inf])\n",
    "all_res_class_df['order'] = all_res_class_df['score'].map({'RAPS':1,\n",
    "                                                        'sparsemax':4,\n",
    "                                                        'opt_entmax':5,\n",
    "                                                        'softmax':0,      \n",
    "                                                        'limit':2,   \n",
    "                                                        'entmax':3\n",
    "                                                    },na_action=\"ignore\")\n",
    "all_res_class_df.sort_values(by='order',inplace=True)\n",
    "all_res_class_df['score'] = all_res_class_df['score'].map({'RAPS':'RAPS',\n",
    "                                                        'sparsemax':'sparsemax',\n",
    "                                                        'opt_entmax':'opt-entmax',\n",
    "                                                        'softmax':'InvProb',      \n",
    "                                                        'limit':'log-margin',   \n",
    "                                                        'entmax':'1.5-entmax'\n",
    "                                                    },na_action=\"ignore\")"
   ]
  },
  {
   "cell_type": "code",
   "execution_count": 5,
   "metadata": {},
   "outputs": [],
   "source": [
    "def get_table_bin_size(random_state,dataset,alpha):\n",
    "    grouped_df = all_res_class_df.groupby(['dataset','score','alpha','random_state','size_bin'])[['match']].agg(['mean','count'])\n",
    "    grouped_df_temp = grouped_df.reset_index().droplevel(1,axis=1)\n",
    "    selected_df = grouped_df_temp[(grouped_df_temp['dataset']==dataset)&(grouped_df_temp['random_state']==random_state)&(grouped_df_temp['alpha']==alpha)]\\\n",
    "        .drop(columns=['dataset','random_state','alpha'])\n",
    "    selected_df.columns = ['score','size_bin','coverage','count']\n",
    "    print(f'Datset:{dataset}, Random State:{random_state}, Alpha:{alpha}')\n",
    "    return selected_df.pivot(columns='score',index=['size_bin']).swaplevel(0, 1, axis=1).sort_index(axis=1)\n"
   ]
  },
  {
   "cell_type": "code",
   "execution_count": 6,
   "metadata": {},
   "outputs": [
    {
     "name": "stderr",
     "output_type": "stream",
     "text": [
      "/var/folders/q2/bjm3n1qd6jq1npksrk9n26nw0000gn/T/ipykernel_18773/4079458646.py:2: FutureWarning: The default of observed=False is deprecated and will be changed to True in a future version of pandas. Pass observed=False to retain current behavior or observed=True to adopt the future default and silence this warning.\n",
      "  grouped_df = all_res_class_df.groupby(['dataset','score','alpha','random_state','size_bin'])[['match']].agg(['mean','count'])\n"
     ]
    },
    {
     "name": "stdout",
     "output_type": "stream",
     "text": [
      "Datset:NewsGroups, Random State:1, Alpha:0.1\n"
     ]
    },
    {
     "data": {
      "text/html": [
       "<div>\n",
       "<style scoped>\n",
       "    .dataframe tbody tr th:only-of-type {\n",
       "        vertical-align: middle;\n",
       "    }\n",
       "\n",
       "    .dataframe tbody tr th {\n",
       "        vertical-align: top;\n",
       "    }\n",
       "\n",
       "    .dataframe thead tr th {\n",
       "        text-align: left;\n",
       "    }\n",
       "\n",
       "    .dataframe thead tr:last-of-type th {\n",
       "        text-align: right;\n",
       "    }\n",
       "</style>\n",
       "<table border=\"1\" class=\"dataframe\">\n",
       "  <thead>\n",
       "    <tr>\n",
       "      <th>score</th>\n",
       "      <th colspan=\"2\" halign=\"left\">1.5-entmax</th>\n",
       "      <th colspan=\"2\" halign=\"left\">InvProb</th>\n",
       "      <th colspan=\"2\" halign=\"left\">RAPS</th>\n",
       "      <th colspan=\"2\" halign=\"left\">log-margin</th>\n",
       "      <th colspan=\"2\" halign=\"left\">opt-entmax</th>\n",
       "      <th colspan=\"2\" halign=\"left\">sparsemax</th>\n",
       "    </tr>\n",
       "    <tr>\n",
       "      <th></th>\n",
       "      <th>count</th>\n",
       "      <th>coverage</th>\n",
       "      <th>count</th>\n",
       "      <th>coverage</th>\n",
       "      <th>count</th>\n",
       "      <th>coverage</th>\n",
       "      <th>count</th>\n",
       "      <th>coverage</th>\n",
       "      <th>count</th>\n",
       "      <th>coverage</th>\n",
       "      <th>count</th>\n",
       "      <th>coverage</th>\n",
       "    </tr>\n",
       "    <tr>\n",
       "      <th>size_bin</th>\n",
       "      <th></th>\n",
       "      <th></th>\n",
       "      <th></th>\n",
       "      <th></th>\n",
       "      <th></th>\n",
       "      <th></th>\n",
       "      <th></th>\n",
       "      <th></th>\n",
       "      <th></th>\n",
       "      <th></th>\n",
       "      <th></th>\n",
       "      <th></th>\n",
       "    </tr>\n",
       "  </thead>\n",
       "  <tbody>\n",
       "    <tr>\n",
       "      <th>(0.0, 1.0]</th>\n",
       "      <td>1356</td>\n",
       "      <td>0.933</td>\n",
       "      <td>1481</td>\n",
       "      <td>0.918</td>\n",
       "      <td>1114</td>\n",
       "      <td>0.943</td>\n",
       "      <td>1481</td>\n",
       "      <td>0.918</td>\n",
       "      <td>1226</td>\n",
       "      <td>0.939</td>\n",
       "      <td>575</td>\n",
       "      <td>0.967</td>\n",
       "    </tr>\n",
       "    <tr>\n",
       "      <th>(1.0, 3.0]</th>\n",
       "      <td>471</td>\n",
       "      <td>0.885</td>\n",
       "      <td>320</td>\n",
       "      <td>0.856</td>\n",
       "      <td>299</td>\n",
       "      <td>0.936</td>\n",
       "      <td>312</td>\n",
       "      <td>0.853</td>\n",
       "      <td>642</td>\n",
       "      <td>0.894</td>\n",
       "      <td>1336</td>\n",
       "      <td>0.912</td>\n",
       "    </tr>\n",
       "    <tr>\n",
       "      <th>(3.0, 6.0]</th>\n",
       "      <td>208</td>\n",
       "      <td>0.837</td>\n",
       "      <td>121</td>\n",
       "      <td>0.868</td>\n",
       "      <td>787</td>\n",
       "      <td>0.850</td>\n",
       "      <td>113</td>\n",
       "      <td>0.867</td>\n",
       "      <td>234</td>\n",
       "      <td>0.786</td>\n",
       "      <td>263</td>\n",
       "      <td>0.722</td>\n",
       "    </tr>\n",
       "    <tr>\n",
       "      <th>(6.0, 10.0]</th>\n",
       "      <td>102</td>\n",
       "      <td>0.833</td>\n",
       "      <td>92</td>\n",
       "      <td>0.946</td>\n",
       "      <td>61</td>\n",
       "      <td>0.525</td>\n",
       "      <td>77</td>\n",
       "      <td>0.961</td>\n",
       "      <td>92</td>\n",
       "      <td>0.793</td>\n",
       "      <td>27</td>\n",
       "      <td>0.778</td>\n",
       "    </tr>\n",
       "    <tr>\n",
       "      <th>(10.0, inf]</th>\n",
       "      <td>124</td>\n",
       "      <td>0.944</td>\n",
       "      <td>247</td>\n",
       "      <td>0.964</td>\n",
       "      <td>0</td>\n",
       "      <td>NaN</td>\n",
       "      <td>278</td>\n",
       "      <td>0.975</td>\n",
       "      <td>67</td>\n",
       "      <td>0.985</td>\n",
       "      <td>60</td>\n",
       "      <td>0.883</td>\n",
       "    </tr>\n",
       "  </tbody>\n",
       "</table>\n",
       "</div>"
      ],
      "text/plain": [
       "score       1.5-entmax          InvProb           RAPS          log-margin  \\\n",
       "                 count coverage   count coverage count coverage      count   \n",
       "size_bin                                                                     \n",
       "(0.0, 1.0]        1356    0.933    1481    0.918  1114    0.943       1481   \n",
       "(1.0, 3.0]         471    0.885     320    0.856   299    0.936        312   \n",
       "(3.0, 6.0]         208    0.837     121    0.868   787    0.850        113   \n",
       "(6.0, 10.0]        102    0.833      92    0.946    61    0.525         77   \n",
       "(10.0, inf]        124    0.944     247    0.964     0      NaN        278   \n",
       "\n",
       "score                opt-entmax          sparsemax           \n",
       "            coverage      count coverage     count coverage  \n",
       "size_bin                                                     \n",
       "(0.0, 1.0]     0.918       1226    0.939       575    0.967  \n",
       "(1.0, 3.0]     0.853        642    0.894      1336    0.912  \n",
       "(3.0, 6.0]     0.867        234    0.786       263    0.722  \n",
       "(6.0, 10.0]    0.961         92    0.793        27    0.778  \n",
       "(10.0, inf]    0.975         67    0.985        60    0.883  "
      ]
     },
     "execution_count": 6,
     "metadata": {},
     "output_type": "execute_result"
    }
   ],
   "source": [
    "get_table_bin_size(1,'NewsGroups',0.1).round(3)"
   ]
  },
  {
   "cell_type": "code",
   "execution_count": 7,
   "metadata": {},
   "outputs": [
    {
     "name": "stderr",
     "output_type": "stream",
     "text": [
      "/var/folders/q2/bjm3n1qd6jq1npksrk9n26nw0000gn/T/ipykernel_18773/683390258.py:2: SettingWithCopyWarning: \n",
      "A value is trying to be set on a copy of a slice from a DataFrame.\n",
      "Try using .loc[row_indexer,col_indexer] = value instead\n",
      "\n",
      "See the caveats in the documentation: https://pandas.pydata.org/pandas-docs/stable/user_guide/indexing.html#returning-a-view-versus-a-copy\n",
      "  singleton_df['is_singleton'] = singleton_df['set_size']==1\n"
     ]
    }
   ],
   "source": [
    "singleton_df = all_res_class_df[all_res_class_df['random_state']==1]\n",
    "singleton_df['is_singleton'] = singleton_df['set_size']==1\n",
    "singleton_df = singleton_df.groupby(['dataset','score','alpha'])[['is_singleton']].mean().join(singleton_df[singleton_df['is_singleton']].groupby(['dataset','score','alpha'])[['match']].mean()).reset_index()\n",
    "singleton_df['name'] = singleton_df['score']"
   ]
  },
  {
   "cell_type": "code",
   "execution_count": 9,
   "metadata": {},
   "outputs": [
    {
     "data": {
      "image/png": "[encoded data removed]",
      "text/plain": [
       "<Figure size 1250x300 with 4 Axes>"
      ]
     },
     "metadata": {},
     "output_type": "display_data"
    }
   ],
   "source": [
    "plt.rcParams['pdf.fonttype'] = 42\n",
    "\n",
    "# Custom color map dictionary\n",
    "color_map = {\n",
    "    'InvProb': '#da5c7a',    # Red\n",
    "    'RAPS': '#e5957c',       # Orange\n",
    "    'log-margin': '#ecc979', # Yellow\n",
    "    '1.5-entmax': '#22bc93', # Teal\n",
    "    'sparsemax': '#24809e',  # Blue\n",
    "    'opt-entmax': '#103743'  # Dark blue\n",
    "}\n",
    "\n",
    "legend_labels = ['InvProb', 'RAPS', 'log-margin', '1.5-entmax', 'sparsemax', 'opt-entmax']\n",
    "\n",
    "fig, axs = plt.subplots(1, 3, figsize=(12.5, 3))\n",
    "\n",
    "for i, alpha in enumerate([0.1, 0.05, 0.01]):\n",
    "    alp = singleton_df[singleton_df['alpha'] == alpha].dropna(subset=['match'])  # Drop NaNs in match\n",
    "\n",
    "    # Plot bars\n",
    "    barplot = sns.barplot(data=alp, x='dataset', y='is_singleton', hue='name', \n",
    "                          hue_order=legend_labels, palette=color_map, ax=axs[i], dodge=True)\n",
    "    axs[i].set_title(r'$\\alpha$ = ' + str(alpha))\n",
    "\n",
    "    # Extract x-positions and colors from bars\n",
    "    bar_positions = {}\n",
    "    for bar, (dataset, name) in zip(barplot.patches, zip(alp['dataset'], alp['name'])):\n",
    "        x_pos = bar.get_x() + bar.get_width() / 2  # Center of the bar\n",
    "        bar_positions[(dataset, name)] = (x_pos, bar.get_facecolor())\n",
    "\n",
    "    # Scatter points\n",
    "    for name in legend_labels:\n",
    "        subset = alp[alp['name'] == name]\n",
    "        for dataset, match_value in zip(subset['dataset'], subset['match']):\n",
    "            if (dataset, name) in bar_positions:\n",
    "                x_pos, color = bar_positions[(dataset, name)]\n",
    "                axs[i].scatter(x_pos, match_value, color=color, zorder=3, s=20)\n",
    "\n",
    "    # Remove subplot legends\n",
    "    axs[i].get_legend().remove()\n",
    "    axs[i].set_xlabel('')\n",
    "    axs[i].set_ylabel('')\n",
    "    axs[i].set_ylim(0, 1.1)\n",
    "    axs[i].spines['top'].set_visible(False)\n",
    "    axs[i].spines['right'].set_visible(False)\n",
    "\n",
    "# Extract legend only from barplot\n",
    "handles, labels = axs[0].get_legend_handles_labels()\n",
    "fig.legend(handles, labels, loc='upper center', ncol=6, bbox_to_anchor=(0.5, 0.05), fontsize=11)\n",
    "\n",
    "# Y-axis adjustments\n",
    "axs[0].set_ylabel('Singleton Ratio')\n",
    "axs[1].set_yticks([])\n",
    "axs[2].set_yticks([])\n",
    "ax2 = axs[2].twinx()\n",
    "ax2.spines['top'].set_visible(False)\n",
    "ax2.set_ylabel(\"Singleton Coverage\")\n",
    "ax2.set_ylim(0, 1.1)\n",
    "plt.subplots_adjust(bottom=0.2, wspace=0.05, hspace=0.4)\n",
    "plt.show()\n"
   ]
  },
  {
   "cell_type": "code",
   "execution_count": 10,
   "metadata": {},
   "outputs": [
    {
     "name": "stderr",
     "output_type": "stream",
     "text": [
      "/var/folders/q2/bjm3n1qd6jq1npksrk9n26nw0000gn/T/ipykernel_18773/668859908.py:2: FutureWarning: The default of observed=False is deprecated and will be changed to True in a future version of pandas. Pass observed=False to retain current behavior or observed=True to adopt the future default and silence this warning.\n",
      "  sscv_df = temp_df.groupby(['dataset','score','alpha','size_bin'])[['match']].agg(['mean','count']).reset_index()\n"
     ]
    }
   ],
   "source": [
    "temp_df = all_res_class_df[all_res_class_df['random_state']==1]\n",
    "sscv_df = temp_df.groupby(['dataset','score','alpha','size_bin'])[['match']].agg(['mean','count']).reset_index()\n",
    "sscv_df.columns = list(map(''.join, sscv_df.columns.values))\n",
    "sscv_df = sscv_df[sscv_df['matchcount']>1]\n",
    "sscv_df['error'] = np.abs(sscv_df['matchmean']-(1-sscv_df['alpha']))\n",
    "sscv_df.sort_values(by='error',ascending=False,inplace=True)\n",
    "sscv_df = sscv_df.groupby(['dataset','score','alpha']).head(1)\n",
    "sscv_df = sscv_df[sscv_df['alpha'].isin([0.01,0.05,0.1])]\n",
    "sscv_df.sort_values(by=['dataset','score','alpha'],inplace=True)"
   ]
  },
  {
   "cell_type": "code",
   "execution_count": 11,
   "metadata": {},
   "outputs": [
    {
     "name": "stderr",
     "output_type": "stream",
     "text": [
      "/var/folders/q2/bjm3n1qd6jq1npksrk9n26nw0000gn/T/ipykernel_18773/714011113.py:13: UserWarning: No artists with labels found to put in legend.  Note that artists whose label start with an underscore are ignored when legend() is called with no argument.\n",
      "  axs[1].legend().set_visible(False)\n",
      "/var/folders/q2/bjm3n1qd6jq1npksrk9n26nw0000gn/T/ipykernel_18773/714011113.py:14: UserWarning: No artists with labels found to put in legend.  Note that artists whose label start with an underscore are ignored when legend() is called with no argument.\n",
      "  axs[2].legend(title='')\n",
      "/var/folders/q2/bjm3n1qd6jq1npksrk9n26nw0000gn/T/ipykernel_18773/714011113.py:14: UserWarning: No artists with labels found to put in legend.  Note that artists whose label start with an underscore are ignored when legend() is called with no argument.\n",
      "  axs[2].legend(title='')\n"
     ]
    },
    {
     "data": {
      "text/plain": [
       "Text(0, 0.5, 'SSCV')"
      ]
     },
     "execution_count": 11,
     "metadata": {},
     "output_type": "execute_result"
    },
    {
     "data": {
      "image/png": "[encoded data removed]",
      "text/plain": [
       "<Figure size 1250x300 with 3 Axes>"
      ]
     },
     "metadata": {},
     "output_type": "display_data"
    }
   ],
   "source": [
    "fig, axs = plt.subplots(1, 3, figsize=(12.5, 3),sharey=True)\n",
    "for i, alpha in enumerate([0.1, 0.05, 0.01]):\n",
    "    alp = sscv_df[sscv_df['alpha'] == alpha]#.dropna(subset=['match'])  # Drop NaNs in match\n",
    "\n",
    "    # Plot bars\n",
    "    barplot = sns.barplot(data=alp, x='dataset', y='error', hue='score', \n",
    "                          hue_order=legend_labels, palette=color_map, ax=axs[i], dodge=True)\n",
    "    axs[i].set_title(r'$\\alpha$ = ' + str(alpha))\n",
    "    axs[i].spines[['right', 'top']].set_visible(False)\n",
    "    axs[i].set_xlabel('')\n",
    "    axs[i].tick_params(axis='x', labelrotation = 30)\n",
    "    axs[0].legend().set_visible(False)\n",
    "    axs[1].legend().set_visible(False)\n",
    "    axs[2].legend(title='')\n",
    "axs[0].set_ylabel('SSCV',fontsize=12)"
   ]
  }
 ],
 "metadata": {
  "kernelspec": {
   "display_name": "entmaxcp",
   "language": "python",
   "name": "python3"
  },
  "language_info": {
   "codemirror_mode": {
    "name": "ipython",
    "version": 3
   },
   "file_extension": ".py",
   "mimetype": "text/x-python",
   "name": "python",
   "nbconvert_exporter": "python",
   "pygments_lexer": "ipython3",
   "version": "3.11.6"
  }
 },
 "nbformat": 4,
 "nbformat_minor": 2
}
