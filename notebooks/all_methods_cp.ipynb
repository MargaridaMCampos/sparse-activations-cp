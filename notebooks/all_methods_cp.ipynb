{
 "cells": [
  {
   "cell_type": "code",
   "execution_count": null,
   "metadata": {},
   "outputs": [],
   "source": [
    "%load_ext autoreload\n",
    "%autoreload 2\n",
    "import numpy as np\n",
    "import pandas as pd\n",
    "from confpred.cp import run_cp\n",
    "import seaborn as sns\n",
    "import matplotlib.pyplot as plt\n",
    "from sklearn.utils import shuffle\n",
    "from confpred import ConformalPredictor,SparseScore,SoftmaxScore,RAPSScore,RAPSPredictor,LimitScore\n",
    "import pickle\n"
   ]
  },
  {
   "cell_type": "code",
   "execution_count": null,
   "metadata": {},
   "outputs": [],
   "source": [
    "# Get optimal RAPS parameters\n",
    "raps_params = pd.read_csv('./data/results_analysis/raps_optimal_vit_test.csv')\n",
    "raps_params.set_index(['dataset','random_state','alpha'],inplace = True)"
   ]
  },
  {
   "cell_type": "code",
   "execution_count": null,
   "metadata": {},
   "outputs": [],
   "source": [
    "# Get optimal opt-entmax parameter\n",
    "opt_entmax_params = pd.read_csv(f'{ROOT_DIR}/data/results_analysis/optimal_entmax_vit_all_alpha.csv')\n",
    "opt_entmax_params.set_index(['dataset','random_state','alpha'],inplace = True)"
   ]
  },
  {
   "cell_type": "code",
   "execution_count": null,
   "metadata": {},
   "outputs": [],
   "source": [
    "dataset_list = ['ImageNet','CIFAR10','NewsGroups','CIFAR100']\n",
    "seed = '23'\n",
    "model_loss = 'softmax'\n",
    "alpha_list = np.round(np.linspace(0.01,0.1,10),4)\n",
    "random_states = [1,12,123,1234,12345]\n",
    "ROOT_DIR = '.'\n",
    "score_list = ['limit','opt_entmax','RAPS','sparsemax','softmax','entmax']\n",
    "transformation='logits'\n",
    "summary_results = pd.DataFrame({'dataset':dataset_list})\\\n",
    "    .merge(pd.DataFrame({'random_state':random_states}), how = 'cross')\\\n",
    "        .merge(pd.DataFrame({'alpha':alpha_list}), how = 'cross')\\\n",
    "            .merge(pd.DataFrame({'score':score_list}), how = 'cross')\n",
    "summary_results['avg_size'] = np.nan\n",
    "summary_results['coverage'] = np.nan\n",
    "summary_results.set_index(['dataset','random_state','alpha','score'],inplace=True)\n",
    "summary_results.sort_index(inplace=True)\n",
    "for dataset in dataset_list:\n",
    "    if dataset == 'NewsGroups':\n",
    "        model_type = 'bert'\n",
    "    elif dataset == 'CIFAR10':\n",
    "        model_type = 'cnn'\n",
    "    else:\n",
    "        model_type = 'vit'\n",
    "    path = f'{ROOT_DIR}/data/predictions/{model_type}_{dataset}_test_{model_loss}_{transformation}_{seed}_proba.pickle'\n",
    "    with open(path, 'rb') as f:\n",
    "        test_preds_og = pickle.load(f)\n",
    "    path = f'{ROOT_DIR}/data/predictions/{dataset}_{seed}_test_true.pickle'\n",
    "    with open(path, 'rb') as f:\n",
    "        test_true_enc_og = pickle.load(f)\n",
    "    for random_state in random_states:\n",
    "        cal_size = np.ceil(test_true_enc_og.shape[0]*0.4).astype(int)\n",
    "        test_preds,test_true_enc = shuffle(test_preds_og,test_true_enc_og,random_state = random_state)\n",
    "        cal_proba = test_preds[0:cal_size]\n",
    "        test_proba = test_preds[cal_size:]\n",
    "        cal_true_enc = test_true_enc[0:cal_size]\n",
    "        test_true_enc = test_true_enc[cal_size:]\n",
    "        for alpha in alpha_list:\n",
    "            lam_reg, k = raps_params.loc[(dataset,random_state,alpha),('lam_reg','k_reg')]\n",
    "            k = int(k)\n",
    "            lambd = opt_entmax_params.loc[(dataset,random_state,alpha),'best_lambda']\n",
    "            for score in score_list:\n",
    "                use_temperature = False\n",
    "                if score == 'sparsemax':\n",
    "                    cp = ConformalPredictor(SparseScore(2))\n",
    "                elif score == 'softmax':\n",
    "                    cp = ConformalPredictor(SoftmaxScore())\n",
    "                elif score == 'entmax':\n",
    "                    cp = ConformalPredictor(SparseScore(1.5))\n",
    "                elif score == 'limit':\n",
    "                    cp = ConformalPredictor(LimitScore())\n",
    "                elif score == 'opt_entmax':\n",
    "                    cp = ConformalPredictor(SparseScore(lambd))\n",
    "                if score=='RAPS':\n",
    "                    cp = RAPSPredictor(RAPSScore(lam_reg=lam_reg,k_reg=k))\n",
    "                print(f'Running {dataset} {score} {seed} {random_state}')\n",
    "                cp.calibrate(cal_true_enc, cal_proba, alpha)\n",
    "                if score in ['entmax','sparsemax','opt_entmax']:\n",
    "                    use_temperature = True\n",
    "                avg_set_size, coverage = cp.evaluate(test_true_enc, test_proba,use_temperature=use_temperature)\n",
    "                summary_results.loc[(dataset,random_state,alpha,score),'avg_size'] = avg_set_size\n",
    "                summary_results.loc[(dataset,random_state,alpha,score),'coverage'] = coverage\n",
    "                cal_preds = cp.predict(cal_proba,use_temperature=use_temperature)\n",
    "                test_preds = cp.predict(test_proba,use_temperature=use_temperature)\n",
    "                \n",
    "                # write predictions to file\n",
    "                with open(f'./data/set_prediction/new/{dataset}_{score}_{seed}_{random_state}_alpha{alpha}_cal_pred.pickle', 'wb') as handle:\n",
    "                    pickle.dump(cal_preds, handle)\n",
    "                with open(f'./data/set_prediction/new/{dataset}_{score}_{seed}_{random_state}_alpha{alpha}_test_pred.pickle', 'wb') as handle:\n",
    "                    pickle.dump(test_preds, handle)\n",
    "# Save summary results to file\n",
    "summary_results.reset_index().to_csv('./data/results_analysis/summary_results.csv', index=False)"
   ]
  }
 ],
 "metadata": {
  "kernelspec": {
   "display_name": "entmaxcp",
   "language": "python",
   "name": "python3"
  },
  "language_info": {
   "name": "python",
   "version": "3.11.6"
  }
 },
 "nbformat": 4,
 "nbformat_minor": 2
}
